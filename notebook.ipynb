{
 "cells": [
  {
   "cell_type": "code",
   "execution_count": 1,
   "metadata": {},
   "outputs": [],
   "source": [
    "from persiantools.jdatetime import JalaliDate\n",
    "import pandas as pd\n",
    "import numpy as np\n",
    "import time"
   ]
  },
  {
   "cell_type": "code",
   "execution_count": 23,
   "metadata": {},
   "outputs": [
    {
     "name": "stdout",
     "output_type": "stream",
     "text": [
      "10.665839195251465\n"
     ]
    }
   ],
   "source": [
    "def chech_persian_date_ymd(\n",
    "    year_persian,\n",
    "    month_persian,\n",
    "    day_persian,\n",
    "):\n",
    "    try:\n",
    "        date_persian = year_persian.astype(str) + \"-\" + month_persian.astype(str) + \"-\" + day_persian.astype(str)\n",
    "        date_gregorian = JalaliDate(year_persian, month_persian, day_persian).to_gregorian()\n",
    "        return date_persian, date_gregorian\n",
    "    except:\n",
    "        return pd.NA, pd.NA\n",
    "\n",
    "x = pd.DataFrame(\n",
    "    {\n",
    "        \"YEAR_PERSIAN\": np.random.randint(1390, 1420, 1000),\n",
    "        \"MONTH_PERSIAN\": np.random.randint(1, 13, 1000),\n",
    "        \"DAY_PERSIAN\": np.random.randint(1, 32, 1000),\n",
    "    }\n",
    ")\n",
    "\n",
    "cols = ['YEAR_PERSIAN', 'MONTH_PERSIAN', 'DAY_PERSIAN']                        \n",
    "x[cols] = x[cols].apply(pd.to_numeric, errors='coerce')\n",
    "x[cols] = x[cols].astype(pd.Int64Dtype())\n",
    "\n",
    "# s = time.time()\n",
    "# v = x.apply(\n",
    "#     lambda x: chech_persian_date_ymd(x.YEAR_PERSIAN, x.MONTH_PERSIAN, x.DAY_PERSIAN),\n",
    "#     axis=1\n",
    "# )\n",
    "# e = time.time()\n",
    "# print(e-s)\n",
    "\n",
    "s = time.time()\n",
    "vv = list(np.vectorize(chech_persian_date_ymd)(x.YEAR_PERSIAN, x.MONTH_PERSIAN, x.DAY_PERSIAN))\n",
    "e = time.time()\n",
    "print(e-s)\n"
   ]
  },
  {
   "cell_type": "code",
   "execution_count": 23,
   "metadata": {},
   "outputs": [
    {
     "data": {
      "text/plain": [
       "0      \n",
       "1    df\n",
       "2      \n",
       "Name: A, dtype: object"
      ]
     },
     "execution_count": 23,
     "metadata": {},
     "output_type": "execute_result"
    }
   ],
   "source": [
    "df = pd.DataFrame(\n",
    "    {\n",
    "        \"A\": [pd.NA, \"df\", pd.NA],\n",
    "        \"B\": [1, 2, 3],\n",
    "    }\n",
    ")\n",
    "\n",
    "df['A'] = df['A'].fillna(\"\")\n",
    "\n",
    "df.A"
   ]
  }
 ],
 "metadata": {
  "kernelspec": {
   "display_name": "Python 3.9.13 ('.venv': venv)",
   "language": "python",
   "name": "python3"
  },
  "language_info": {
   "codemirror_mode": {
    "name": "ipython",
    "version": 3
   },
   "file_extension": ".py",
   "mimetype": "text/x-python",
   "name": "python",
   "nbconvert_exporter": "python",
   "pygments_lexer": "ipython3",
   "version": "3.9.13"
  },
  "orig_nbformat": 4,
  "vscode": {
   "interpreter": {
    "hash": "3f18f41f5648e82ba40a041a1db6b6299f3070726af91224d1ca8b87e76a5f37"
   }
  }
 },
 "nbformat": 4,
 "nbformat_minor": 2
}
